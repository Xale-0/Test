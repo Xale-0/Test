{
  "metadata": {
    "kernelspec": {
      "name": "python",
      "display_name": "Python (Pyodide)",
      "language": "python"
    },
    "language_info": {
      "codemirror_mode": {
        "name": "python",
        "version": 3
      },
      "file_extension": ".py",
      "mimetype": "text/x-python",
      "name": "python",
      "nbconvert_exporter": "python",
      "pygments_lexer": "ipython3",
      "version": "3.8"
    }
  },
  "nbformat_minor": 5,
  "nbformat": 4,
  "cells": [
    {
      "id": "1d5971ec-5751-45f9-b272-d9da6db03b5d",
      "cell_type": "markdown",
      "source": "# Data Science Tools and Ecosystem",
      "metadata": {}
    },
    {
      "id": "f36ec431-ae1b-47c0-8af6-aa76e01f747e",
      "cell_type": "markdown",
      "source": "In this notebook, Data Science Tools and Ecosystem are summarized.",
      "metadata": {}
    },
    {
      "id": "007bd397-b5e6-4a56-8ee2-957c19383524",
      "cell_type": "markdown",
      "source": "___Objectives:___\n- List popular languages for Data Science\n- List commonly used libraries Data Scientists use\n- List some Data Scient Tools\n- Evaluating some Arithmetic Expressions and Examples",
      "metadata": {}
    },
    {
      "id": "dcafb2a9-f0c2-48da-863b-14ce9024b8af",
      "cell_type": "markdown",
      "source": "Some of the popular languages Data Scientists use are:\n1. Python\n2. R\n3. SQL",
      "metadata": {}
    },
    {
      "id": "9ed8ae28-2595-4b3b-af9b-045a6a12573d",
      "cell_type": "markdown",
      "source": "Some of the commonly used libraries used by Data Scientists include:\n1. Pandas\n2. Numpy\n3. Matplolib",
      "metadata": {}
    },
    {
      "id": "dce6e1b0-1081-44a3-8452-44663b1d7e81",
      "cell_type": "markdown",
      "source": "|Data Science Tools|\n|------------------|\n|Jupyter Notebook  |\n|RStudio           |\n|VS Code           |",
      "metadata": {}
    },
    {
      "id": "2e702707-3494-49bd-b372-a0bf4ca4430b",
      "cell_type": "markdown",
      "source": "### Below are a few examples of evaluating arithmetic expression in Python",
      "metadata": {}
    },
    {
      "id": "1033c5f2-eee0-419a-b50e-268320530d0b",
      "cell_type": "code",
      "source": "#This is a simple arithmetic expression to multiply then add integers\n(3*4)+5\n",
      "metadata": {
        "trusted": true
      },
      "outputs": [
        {
          "execution_count": 1,
          "output_type": "execute_result",
          "data": {
            "text/plain": "17"
          },
          "metadata": {}
        }
      ],
      "execution_count": 1
    },
    {
      "id": "9786a2af-2ac0-4a4b-96a6-7bfca6cde406",
      "cell_type": "code",
      "source": "#This will convert 200 minutes to hours by dividing by 60\n200/60",
      "metadata": {
        "trusted": true
      },
      "outputs": [
        {
          "execution_count": 2,
          "output_type": "execute_result",
          "data": {
            "text/plain": "3.3333333333333335"
          },
          "metadata": {}
        }
      ],
      "execution_count": 2
    },
    {
      "id": "c007a6b9-fdef-4293-a325-e1184159b57b",
      "cell_type": "markdown",
      "source": "## Author\nAlejandro Morales",
      "metadata": {}
    },
    {
      "id": "5a0e84f6-be3f-4bda-90ec-ca747fcfb1b2",
      "cell_type": "code",
      "source": "",
      "metadata": {
        "trusted": true
      },
      "outputs": [],
      "execution_count": null
    }
  ]
}